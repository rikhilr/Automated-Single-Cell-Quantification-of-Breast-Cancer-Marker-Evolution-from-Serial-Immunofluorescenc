{
  "nbformat": 4,
  "nbformat_minor": 0,
  "metadata": {
    "colab": {
      "provenance": [],
      "machine_shape": "hm",
      "gpuClass": "premium"
    },
    "kernelspec": {
      "name": "python3",
      "display_name": "Python 3"
    },
    "language_info": {
      "name": "python"
    },
    "gpuClass": "premium",
    "accelerator": "GPU"
  },
  "cells": [
    {
      "cell_type": "code",
      "execution_count": null,
      "metadata": {
        "id": "XZHYsGsrH4xt"
      },
      "outputs": [],
      "source": [
        "import keras\n",
        "from keras.layers import *\n",
        "#from keras.layers import BatchNormalization\n",
        "from keras.models import Model\n",
        "from keras.datasets import mnist\n",
        "from keras import backend as K\n",
        "import numpy as np\n",
        "import matplotlib.pyplot as plt\n",
        "from tensorflow.python.framework.ops import disable_eager_execution\n",
        "disable_eager_execution()"
      ]
    },
    {
      "cell_type": "code",
      "source": [
        "cellData = np.load(\"/content/drive/MyDrive/cellData.npy\")"
      ],
      "metadata": {
        "id": "Rxx32tQVIS_s"
      },
      "execution_count": null,
      "outputs": []
    },
    {
      "cell_type": "code",
      "source": [
        "from sklearn.model_selection import train_test_split\n",
        "trainData, testData = train_test_split(cellData, test_size = 0.25, random_state=1)"
      ],
      "metadata": {
        "id": "xrNUWV9ZIVil"
      },
      "execution_count": null,
      "outputs": []
    },
    {
      "cell_type": "code",
      "source": [
        "img_width  = trainData.shape[1]\n",
        "img_height = trainData.shape[2]\n",
        "num_channels = 30\n",
        "\n",
        "x_train = trainData.reshape(trainData.shape[0], img_height, img_width, num_channels)\n",
        "x_test = testData.reshape(testData.shape[0], img_height, img_width, num_channels)\n",
        "input_shape = (img_height, img_width, num_channels)"
      ],
      "metadata": {
        "id": "E9QBoZC3IcJB"
      },
      "execution_count": null,
      "outputs": []
    },
    {
      "cell_type": "code",
      "source": [
        "plt.figure(1)\n",
        "plt.subplot(221)\n",
        "plt.imshow(x_train[42][:,:,0], cmap='gray')\n",
        "\n",
        "plt.subplot(222)\n",
        "plt.imshow(x_train[42][:,:,1], cmap='gray')\n",
        "\n",
        "plt.subplot(223)\n",
        "plt.imshow(x_train[42][:,:,2], cmap='gray')\n",
        "\n",
        "plt.subplot(224)\n",
        "plt.imshow(x_train[42][:,:,3], cmap='gray')\n",
        "plt.show()"
      ],
      "metadata": {
        "id": "kuoxdN7QIola"
      },
      "execution_count": null,
      "outputs": []
    },
    {
      "cell_type": "code",
      "source": [
        "latent_dim = 2 # Number of Distributions we want the input represneted as\n",
        "\n",
        "input_img = Input(shape=input_shape, name='encoder_input')\n",
        "x = Conv2D(32, 3, padding='same', activation='relu')(input_img)\n",
        "x = Conv2D(64, 3, padding='same', activation='relu',strides=(2, 2))(x)\n",
        "x = Conv2D(128, 3, padding='same', activation='relu')(x)\n",
        "x = Conv2D(512, 3, padding='same', activation='relu')(x)\n",
        "\n",
        "conv_shape = K.int_shape(x)\n",
        "x = Flatten()(x)\n",
        "x = Dense(32, activation='relu')(x)"
      ],
      "metadata": {
        "id": "PufzP8RpIrSO"
      },
      "execution_count": null,
      "outputs": []
    },
    {
      "cell_type": "code",
      "source": [
        "z_mu = Dense(latent_dim, name='latent_mu')(x)\n",
        "z_sigma = Dense(latent_dim, name='latent_sigma')(x)"
      ],
      "metadata": {
        "id": "T-UaZ16oI5Sw"
      },
      "execution_count": null,
      "outputs": []
    },
    {
      "cell_type": "code",
      "source": [
        "def sample_z(args):\n",
        "  z_mu, z_sigma = args\n",
        "  eps = K.random_normal(shape=(K.shape(z_mu)[0], K.int_shape(z_mu)[1]))\n",
        "  return z_mu + K.exp(z_sigma / 2) * eps"
      ],
      "metadata": {
        "id": "UuAkoc_gI-7p"
      },
      "execution_count": null,
      "outputs": []
    },
    {
      "cell_type": "code",
      "source": [
        "z = Lambda(sample_z, output_shape=(latent_dim, ), name='z')([z_mu, z_sigma])"
      ],
      "metadata": {
        "id": "BNLJ5QLvI_SN"
      },
      "execution_count": null,
      "outputs": []
    },
    {
      "cell_type": "code",
      "source": [
        "encoder = Model(input_img, [z_mu, z_sigma, z], name='encoder')\n",
        "print(encoder.summary())"
      ],
      "metadata": {
        "id": "WAp5gOAdJBvV"
      },
      "execution_count": null,
      "outputs": []
    },
    {
      "cell_type": "code",
      "source": [
        "decoder_input = Input(shape=(latent_dim, ), name='decoder_input')\n",
        "\n",
        "\n",
        "x = Dense(conv_shape[1]*conv_shape[2]*conv_shape[3], activation='relu')(decoder_input)\n",
        "x = Reshape((conv_shape[1], conv_shape[2], conv_shape[3]))(x)\n",
        "x = Conv2DTranspose(32, 3, padding='same', activation='relu',strides=(2, 2))(x)\n",
        "x = Conv2DTranspose(num_channels, 3, padding='same', activation='sigmoid', name='decoder_output')(x)\n",
        "\n",
        "decoder = Model(decoder_input, x, name='decoder')\n",
        "decoder.summary()\n",
        "\n",
        "z_decoded = decoder(z)"
      ],
      "metadata": {
        "id": "XTeqfUXcJD8o"
      },
      "execution_count": null,
      "outputs": []
    },
    {
      "cell_type": "code",
      "source": [
        "class CustomLayer(keras.layers.Layer):\n",
        "\n",
        "    def vae_loss(self, x, z_decoded):\n",
        "        x = K.flatten(x)\n",
        "        z_decoded = K.flatten(z_decoded)\n",
        "\n",
        "        recon_loss = keras.metrics.binary_crossentropy(x, z_decoded)\n",
        "\n",
        "        kl_loss = -5e-4 * K.mean(1 + z_sigma - K.square(z_mu) - K.exp(z_sigma), axis=-1)\n",
        "        return K.mean(recon_loss + kl_loss)\n",
        "\n",
        "    def call(self, inputs):\n",
        "        x = inputs[0]\n",
        "        z_decoded = inputs[1]\n",
        "        loss = self.vae_loss(x, z_decoded)\n",
        "        self.add_loss(loss, inputs=inputs)\n",
        "        return z_decoded\n",
        "\n",
        "\n",
        "y = CustomLayer()([input_img, z_decoded])"
      ],
      "metadata": {
        "id": "j2g1wM5rJGlX"
      },
      "execution_count": null,
      "outputs": []
    },
    {
      "cell_type": "code",
      "source": [
        "vae = Model(input_img, y, name='vae')\n",
        "vae.compile(optimizer='adam', loss=None)\n",
        "vae.summary()\n",
        "history = vae.fit(x_train, None, epochs = 200, batch_size = 8184, validation_split = 0.2)"
      ],
      "metadata": {
        "id": "F-2r4H5-JJH3"
      },
      "execution_count": null,
      "outputs": []
    },
    {
      "cell_type": "code",
      "source": [
        "cellData = np.load(\"/content/drive/MyDrive/cellData_HTAN9_32_scene3.npy\")\n",
        "cellData2 = np.load(\"/content/drive/MyDrive/cellData_HTAN9_93_scene2.npy\")"
      ],
      "metadata": {
        "id": "FoJIJG_-J-zq"
      },
      "execution_count": null,
      "outputs": []
    },
    {
      "cell_type": "code",
      "source": [
        "import matplotlib.pyplot as plt\n",
        "import seaborn as sns\n",
        "\n",
        "sns.set_style(\"dark\")\n",
        "\n",
        "z_mean, _, _ = encoder.predict(trainData)\n",
        "z_mean_2, _, _ = encoder.predict(cellData)\n",
        "z_mean_3, _, _ = encoder.predict(cellData2)\n"
      ],
      "metadata": {
        "id": "WuF0kJCLJ6qs"
      },
      "execution_count": null,
      "outputs": []
    },
    {
      "cell_type": "code",
      "source": [
        "xMin = -0.06\n",
        "xMax = 0.015\n",
        "yMin = -0.150\n",
        "yMax = 0.03\n",
        "\n",
        "m1 = np.mean(z_mean, axis=0) #training data\n",
        "m2 = np.mean(z_mean_2, axis=0) #test data 1\n",
        "m3 = np.mean(z_mean_3, axis=0) # test data 2 (diff time)\n",
        "\n",
        "sns.scatterplot(x=z_mean[:,0], y=z_mean[:,1], size=3, alpha = 0.2)\n",
        "plt.plot([m1[0]], [m1[1]], 'o', color=\"Red\")\n",
        "plt.annotate(\"(%0.3f, %0.3f)\" % (m1[0], m1[1]),\n",
        "            xy=(m1[0], m1[1]),\n",
        "            xytext=(0.7, 0.65),\n",
        "            textcoords='figure fraction',\n",
        "            arrowprops=dict(facecolor='black', shrink=0.05),\n",
        "            horizontalalignment='right',\n",
        "            verticalalignment='top',\n",
        "      )\n",
        "\n",
        "#plt.xlim([xMin,xMax])\n",
        "#plt.ylim([yMin,yMax])\n",
        "plt.xlabel(\"z [0]\")\n",
        "plt.ylabel(\"z [1]\")\n",
        "\n",
        "#plt.show()\n",
        "#plt.savefig(\"/content/drive/MyDrive/Results/trained_figure.svg\", dpi=300)"
      ],
      "metadata": {
        "id": "XyxT1apdJMgm"
      },
      "execution_count": null,
      "outputs": []
    },
    {
      "cell_type": "code",
      "source": [
        "sns.scatterplot(x=z_mean_2[:,0], y=z_mean_2[:,1], size=3, alpha = 0.2)\n",
        "plt.plot([m2[0]], [m2[1]], 'o', color=\"Red\")\n",
        "plt.annotate(\"(%0.3f, %0.3f)\" % (m2[0], m2[1]),\n",
        "            xy=(m2[0], m2[1]),  # theta, radius\n",
        "            xytext=(0.7, 0.65),    # fraction, fraction\n",
        "            textcoords='figure fraction',\n",
        "            arrowprops=dict(facecolor='black', shrink=0.05),\n",
        "            horizontalalignment='right',\n",
        "            verticalalignment='top',\n",
        "            )\n",
        "\n",
        "#plt.xlim([xMin,xMax])\n",
        "#plt.ylim([yMin,yMax])\n",
        "plt.xlabel(\"z [0]\")\n",
        "plt.ylabel(\"z [1]\")\n",
        "\n",
        "#plt.show()\n",
        "#plt.savefig(\"/content/drive/MyDrive/Results/timepoint1_figure.svg\", dpi=300)"
      ],
      "metadata": {
        "id": "ySRtIccv1Yu2"
      },
      "execution_count": null,
      "outputs": []
    },
    {
      "cell_type": "code",
      "source": [
        "sns.scatterplot(x=z_mean_3[:,0], y=z_mean_3[:,1], size=3, alpha = 0.2)\n",
        "plt.plot([m3[0]], [m3[1]], 'o', color=\"Red\")\n",
        "plt.annotate(\"(%0.3f, %0.3f)\" % (m3[0], m3[1]),\n",
        "            xy=(m3[0], m3[1]),  # theta, radius\n",
        "            xytext=(0.7, 0.65),    # fraction, fraction\n",
        "            textcoords='figure fraction',\n",
        "            arrowprops=dict(facecolor='black', shrink=0.05),\n",
        "            horizontalalignment='right',\n",
        "            verticalalignment='top',\n",
        "            )\n",
        "\n",
        "#plt.xlim([xMin,xMax])\n",
        "#plt.ylim([yMin,yMax])\n",
        "plt.xlabel(\"z [0]\")\n",
        "plt.ylabel(\"z [1]\")\n",
        "\n",
        "#plt.show()\n",
        "#plt.savefig(\"/content/drive/MyDrive/Results/timepoint2_figure.svg\", dpi=300)"
      ],
      "metadata": {
        "id": "XaFhG7YD1at6"
      },
      "execution_count": null,
      "outputs": []
    },
    {
      "cell_type": "code",
      "source": [
        "m1 = np.mean(z_mean, axis=0) #training data\n",
        "m2 = np.mean(z_mean_2, axis=0) #test data 1\n",
        "m3 = np.mean(z_mean_3, axis=0) # test data 2 (diff time)\n",
        "\n",
        "print(m1, m2, m3)"
      ],
      "metadata": {
        "id": "36--Zvw9NW0m"
      },
      "execution_count": null,
      "outputs": []
    },
    {
      "cell_type": "code",
      "source": [
        "n = 20\n",
        "figure = np.zeros((img_width * n, img_height * n))\n",
        "\n",
        "grid_x = np.linspace(-2, 3, n)\n",
        "grid_y = np.linspace(-2, 2, n)[::-1]\n",
        "\n",
        "for i, yi in enumerate(grid_y):\n",
        "    for j, xi in enumerate(grid_x):\n",
        "        z_sample = np.array([[xi, yi]])\n",
        "        x_decoded = decoder.predict(z_sample)\n",
        "        digit = x_decoded[0].reshape(img_width, img_height, num_channels)[:, :, 1]\n",
        "        figure[i * img_width: (i + 1) * img_width,\n",
        "               j * img_height: (j + 1) * img_height] = digit\n",
        "\n",
        "plt.figure(figsize=(10, 10))\n",
        "fig_shape = np.shape(figure)\n",
        "figure = figure.reshape((fig_shape[0], fig_shape[1]))\n",
        "\n",
        "plt.imshow(figure, cmap='gray')\n",
        "plt.show()"
      ],
      "metadata": {
        "id": "5p-VjdZnQJPu"
      },
      "execution_count": null,
      "outputs": []
    },
    {
      "cell_type": "code",
      "source": [
        "import numpy as np\n",
        "\n",
        "def uneven_kl_divergence(pk,qk):\n",
        "    #print(np.min(pk), np.min(qk))\n",
        "    pk -= np.min([np.min(pk), np.min(qk)]) - 1e-5\n",
        "    qk -= np.min([np.min(pk), np.min(qk)]) - 1e-5\n",
        "\n",
        "    if len(pk)>len(qk):\n",
        "        pk = np.random.choice(pk,len(qk))\n",
        "    elif len(qk)>len(pk):\n",
        "        qk = np.random.choice(qk,len(pk))\n",
        "\n",
        "    #print(np.min(pk), np.min(qk))\n",
        "    return np.sum(pk * np.log(pk/qk))"
      ],
      "metadata": {
        "id": "yq_0bFrl9cmG"
      },
      "execution_count": null,
      "outputs": []
    },
    {
      "cell_type": "code",
      "source": [
        "sx = uneven_kl_divergence(z_mean[:, 0].copy(), z_mean_2[:, 0].copy())\n",
        "sx2 = uneven_kl_divergence(z_mean[:, 0].copy(), z_mean_3[:, 0].copy())\n",
        "sx3 = uneven_kl_divergence(z_mean_2[:, 0].copy(), z_mean_3[:, 0].copy())\n",
        "\n",
        "#print(z_mean[1], z_mean_2[1], z_mean_3[1])\n",
        "\n",
        "sy = uneven_kl_divergence(z_mean[:, 1].copy(), z_mean_2[:, 1].copy())\n",
        "sy2 = uneven_kl_divergence(z_mean[:, 1].copy(), z_mean_3[:, 1].copy())\n",
        "sy3 = uneven_kl_divergence(z_mean_2[:, 1].copy(), z_mean_3[:, 1].copy())\n",
        "\n",
        "print(sx, sx2, sx3)\n",
        "print(sy, sy2, sy3)"
      ],
      "metadata": {
        "id": "oAE2o9gD3Rtz"
      },
      "execution_count": null,
      "outputs": []
    },
    {
      "cell_type": "code",
      "source": [
        "plt.subplot(1, 2, 1)\n",
        "plt.imshow(x_test[1][:,:,18])\n",
        "\n",
        "plt.subplot(1, 2, 2)\n",
        "result = vae.predict(x_test[1].reshape(1, 24, 24, 30))\n",
        "plt.imshow(result[0, :, :, 18])\n",
        "\n",
        "#plt.show()\n",
        "#plt.savefig(\"/content/drive/MyDrive/Results/RebuiltImage.svg\", dpi=300)"
      ],
      "metadata": {
        "id": "91L2LVEd7IWb"
      },
      "execution_count": null,
      "outputs": []
    },
    {
      "cell_type": "code",
      "source": [
        "# summarize history for loss\n",
        "plt.plot(history.history['loss'])\n",
        "plt.plot(history.history['val_loss'])\n",
        "plt.title('model loss')\n",
        "plt.ylabel('loss')\n",
        "plt.xlabel('epoch')\n",
        "plt.legend(['train', 'test'], loc='upper left')\n",
        "#plt.show()\n",
        "#plt.savefig(\"/content/drive/MyDrive/Results/ModelLoss.svg\", dpi=300)"
      ],
      "metadata": {
        "id": "8LZXPHpTaXBO"
      },
      "execution_count": null,
      "outputs": []
    },
    {
      "cell_type": "code",
      "source": [],
      "metadata": {
        "id": "_rJtTnWqVXfR"
      },
      "execution_count": null,
      "outputs": []
    }
  ]
}